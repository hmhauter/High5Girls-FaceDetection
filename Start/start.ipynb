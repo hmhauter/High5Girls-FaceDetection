{
 "cells": [
  {
   "cell_type": "markdown",
   "metadata": {},
   "source": [
    "# Start\n",
    "Welcome to the Face Detection and Face Recognition Workshop from High5Girls. We will use Python as a programming language since it is widely used in Data Science. \n",
    "Let's get familiar with the language first...\n",
    "To run the scripts we first eed to setup our python environment. We will do that together at the beginning of the workshop."
   ]
  },
  {
   "cell_type": "markdown",
   "metadata": {},
   "source": [
    "### Script Language\n",
    "Python is a script language what means we can directly execute the code and we do not need a compiler. \n",
    "Try to run the cell below and see what the output is. To run a cell click on the \"Execute Cell\" button to the left of the cell."
   ]
  },
  {
   "cell_type": "code",
   "execution_count": null,
   "metadata": {},
   "outputs": [],
   "source": [
    "print(\"Hello\")"
   ]
  },
  {
   "cell_type": "markdown",
   "metadata": {},
   "source": [
    "**Exercise**: Try to change the output such that \"High5Girls\" is printed in the cell below."
   ]
  },
  {
   "cell_type": "code",
   "execution_count": 1,
   "metadata": {},
   "outputs": [
    {
     "name": "stdout",
     "output_type": "stream",
     "text": [
      "\n"
     ]
    }
   ],
   "source": [
    "print(\"\")"
   ]
  },
  {
   "cell_type": "markdown",
   "metadata": {},
   "source": [
    "### Condition\n",
    "Sometimes we only want to execute code if a statement is true. Look at the following example:"
   ]
  },
  {
   "cell_type": "code",
   "execution_count": null,
   "metadata": {},
   "outputs": [],
   "source": [
    "isNice = True\n",
    "if isNice == True:\n",
    "    print(\"Hello\")\n",
    "else:\n",
    "    print(\"Good Bye\")"
   ]
  },
  {
   "cell_type": "markdown",
   "metadata": {},
   "source": [
    "**Exercise**: So what happens if *isNice* is not set to *True*? <br>\n",
    "As you can see Python works with indentation - what should be executed in case that the if statement is true must be indented"
   ]
  },
  {
   "cell_type": "code",
   "execution_count": null,
   "metadata": {},
   "outputs": [],
   "source": [
    "# space for the exercise\n",
    "isNice \n",
    "if isNice == True:\n",
    "    print(\"Hello\")\n",
    "else:\n",
    "    print(\"Good Bye\")"
   ]
  },
  {
   "cell_type": "markdown",
   "metadata": {},
   "source": [
    "### Loops\n",
    "Sometimes we want to execute code while a condition is true. For example the robot should go forward until it hits a wall. That can be done with *for* and *while*. "
   ]
  },
  {
   "cell_type": "code",
   "execution_count": 3,
   "metadata": {},
   "outputs": [
    {
     "name": "stdout",
     "output_type": "stream",
     "text": [
      "The robot is at step:  0\n",
      "The robot is at step:  1\n",
      "The robot is at step:  2\n"
     ]
    }
   ],
   "source": [
    "steps = 0\n",
    "while steps < 3:\n",
    "    print(\"The robot is at step: \", steps)\n",
    "    steps = steps + 1"
   ]
  },
  {
   "cell_type": "markdown",
   "metadata": {},
   "source": [
    "**Exercise**: Can you make the robot go for 10 steps? Hint: How do you need to change the condition in the while loop?"
   ]
  },
  {
   "cell_type": "code",
   "execution_count": null,
   "metadata": {},
   "outputs": [],
   "source": [
    "# space for the exercise"
   ]
  },
  {
   "cell_type": "markdown",
   "metadata": {},
   "source": [
    "### Functions\n",
    "Sometimes it is usefull to have code blocks in seperate functions. For example an extra function to let a robot move forward. \n",
    "A function is indicated with the *def* word and looks like this:"
   ]
  },
  {
   "cell_type": "code",
   "execution_count": 4,
   "metadata": {},
   "outputs": [
    {
     "name": "stdout",
     "output_type": "stream",
     "text": [
      "Robot moves 1 step\n"
     ]
    }
   ],
   "source": [
    "# Move Forward Function for robot\n",
    "def move_forward():\n",
    "    print(\"Robot moves 1 step\")"
   ]
  },
  {
   "cell_type": "markdown",
   "metadata": {},
   "source": [
    "Nothing happend so far... <br> \n",
    "That is because we have to call the function:"
   ]
  },
  {
   "cell_type": "code",
   "execution_count": null,
   "metadata": {},
   "outputs": [],
   "source": [
    "# now we can call the function by writing the function name and brackets\n",
    "move_forward()"
   ]
  },
  {
   "cell_type": "markdown",
   "metadata": {},
   "source": [
    "Now we can also pass arguments to the function:"
   ]
  },
  {
   "cell_type": "code",
   "execution_count": 6,
   "metadata": {},
   "outputs": [],
   "source": [
    "# Move Forward Function for x steps for the robot\n",
    "def move_forward_steps(step):\n",
    "    print(\"Robot moves %d step\" % step)"
   ]
  },
  {
   "cell_type": "code",
   "execution_count": 7,
   "metadata": {},
   "outputs": [
    {
     "name": "stdout",
     "output_type": "stream",
     "text": [
      "Robot moves 3 step\n"
     ]
    }
   ],
   "source": [
    "# and again we are calling the function - but now with the step size as an argument \n",
    "move_forward_steps(3)"
   ]
  },
  {
   "cell_type": "markdown",
   "metadata": {},
   "source": [
    "**Exercise A**: Can you make the robot move with a step size of 5? <br>\n",
    "\n",
    "**Exercise B**: Can you make the robot move with a step size of 5 but three times after each other? Hint: combine the function call with the while loop we just learned"
   ]
  },
  {
   "cell_type": "code",
   "execution_count": null,
   "metadata": {},
   "outputs": [],
   "source": [
    "# space for exercise A"
   ]
  },
  {
   "cell_type": "code",
   "execution_count": null,
   "metadata": {},
   "outputs": [],
   "source": [
    "# space for exercise B"
   ]
  }
 ],
 "metadata": {
  "kernelspec": {
   "display_name": "pfas",
   "language": "python",
   "name": "python3"
  },
  "language_info": {
   "codemirror_mode": {
    "name": "ipython",
    "version": 3
   },
   "file_extension": ".py",
   "mimetype": "text/x-python",
   "name": "python",
   "nbconvert_exporter": "python",
   "pygments_lexer": "ipython3",
   "version": "3.10.9"
  },
  "orig_nbformat": 4
 },
 "nbformat": 4,
 "nbformat_minor": 2
}
