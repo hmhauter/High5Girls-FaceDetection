{
 "cells": [
  {
   "cell_type": "markdown",
   "metadata": {},
   "source": [
    "# Training Phase\n",
    "This script uses the dataset we st up in 1_face_dataset to train the NN\n",
    "1. All the images and corresponding IDs are imported\n",
    "2. The NN is trained on these images\n",
    "3. The trained NN is saved in trainer/trainer.yml\n"
   ]
  },
  {
   "cell_type": "code",
   "execution_count": 1,
   "metadata": {},
   "outputs": [],
   "source": [
    "# again some important imports\n",
    "import cv2\n",
    "import numpy as np\n",
    "import os"
   ]
  },
  {
   "cell_type": "code",
   "execution_count": 2,
   "metadata": {},
   "outputs": [],
   "source": [
    "# Path for face image database\n",
    "path = './dataset'\n",
    "\n",
    "# our two Neural Networks\n",
    "detector = cv2.CascadeClassifier(\"../haarcascade_frontalface_default.xml\")\n",
    "recognizer = cv2.face.LBPHFaceRecognizer_create()"
   ]
  },
  {
   "cell_type": "markdown",
   "metadata": {},
   "source": [
    "**Exercise A**: Reflect again, why do we need a *detector* and a *recognizer*?"
   ]
  },
  {
   "cell_type": "code",
   "execution_count": 7,
   "metadata": {},
   "outputs": [],
   "source": [
    "# function to get the images and label data\n",
    "def getImagesAndLabels(path):\n",
    "\n",
    "    imagePaths = [os.path.join(path,f) for f in os.listdir(path)]   \n",
    "    faceSamples=[]\n",
    "    ids = []\n",
    "\n",
    "    for imagePath in imagePaths: \n",
    "        \n",
    "        img = cv2.imread(imagePath)\n",
    "        img_gray = cv2.cvtColor(img, cv2.COLOR_BGR2GRAY)\n",
    "\n",
    "        id = int(os.path.split(imagePath)[-1].split(\"_\")[1])\n",
    "        faces = detector.detectMultiScale(img_gray)\n",
    "\n",
    "        for (x,y,w,h) in faces:\n",
    "            faceSamples.append(img_gray[y:y+h,x:x+w])\n",
    "            ids.append(id)\n",
    "\n",
    "    return faceSamples,ids"
   ]
  },
  {
   "cell_type": "markdown",
   "metadata": {},
   "source": [
    "Nothing has happend yet because we just declared a function. Let's call it..."
   ]
  },
  {
   "cell_type": "code",
   "execution_count": 9,
   "metadata": {},
   "outputs": [
    {
     "name": "stdout",
     "output_type": "stream",
     "text": [
      "\n",
      " [INFO] Training faces. It will take a few seconds. Wait ...\n",
      "./dataset/User_1_16.jpg\n",
      "./dataset/User_0_14.jpg\n",
      "./dataset/User_0_24.jpg\n",
      "./dataset/User_1_29.jpg\n",
      "./dataset/User_1_14.jpg\n",
      "./dataset/User_0_28.jpg\n",
      "./dataset/User_0_16.jpg\n",
      "./dataset/User_0_2.jpg\n",
      "./dataset/User_1_20.jpg\n",
      "./dataset/User_1_4.jpg\n",
      "./dataset/User_1_28.jpg\n",
      "./dataset/User_0_13.jpg\n",
      "./dataset/User_1_3.jpg\n",
      "./dataset/User_1_15.jpg\n",
      "./dataset/User_1_7.jpg\n",
      "./dataset/User_0_26.jpg\n",
      "./dataset/User_1_18.jpg\n",
      "./dataset/User_1_11.jpg\n",
      "./dataset/User_1_10.jpg\n",
      "./dataset/User_0_20.jpg\n",
      "./dataset/User_0_21.jpg\n",
      "./dataset/User_0_27.jpg\n",
      "./dataset/User_1_12.jpg\n",
      "./dataset/User_0_12.jpg\n",
      "./dataset/User_1_26.jpg\n",
      "./dataset/User_1_13.jpg\n",
      "./dataset/User_0_17.jpg\n",
      "./dataset/User_1_21.jpg\n",
      "./dataset/User_0_30.jpg\n",
      "./dataset/User_1_6.jpg\n",
      "./dataset/User_0_10.jpg\n",
      "./dataset/User_1_24.jpg\n",
      "./dataset/User_0_23.jpg\n",
      "./dataset/User_0_9.jpg\n",
      "./dataset/User_0_8.jpg\n",
      "./dataset/User_1_30.jpg\n",
      "./dataset/User_0_19.jpg\n",
      "./dataset/User_0_3.jpg\n",
      "./dataset/User_1_19.jpg\n",
      "./dataset/User_0_15.jpg\n",
      "./dataset/User_1_25.jpg\n",
      "./dataset/User_0_25.jpg\n",
      "./dataset/User_0_6.jpg\n",
      "./dataset/User_0_1.jpg\n",
      "./dataset/User_1_8.jpg\n",
      "./dataset/User_1_1.jpg\n",
      "./dataset/User_1_17.jpg\n",
      "./dataset/User_0_29.jpg\n",
      "./dataset/User_1_9.jpg\n",
      "./dataset/User_0_4.jpg\n",
      "./dataset/User_1_22.jpg\n",
      "./dataset/User_0_7.jpg\n",
      "./dataset/User_0_18.jpg\n",
      "./dataset/User_1_23.jpg\n",
      "./dataset/User_1_2.jpg\n",
      "./dataset/User_1_27.jpg\n",
      "./dataset/User_0_11.jpg\n",
      "./dataset/User_1_5.jpg\n",
      "./dataset/User_0_22.jpg\n",
      "./dataset/User_0_5.jpg\n",
      "\n",
      " [INFO] 2 faces trained. Exiting Program\n"
     ]
    }
   ],
   "source": [
    "print (\"\\n [INFO] Training faces. It will take a few seconds. Wait ...\")\n",
    "faces,ids = getImagesAndLabels(path)\n",
    "recognizer.train(faces, np.array(ids))\n",
    "\n",
    "# Save the model into trainer/trainer.yml\n",
    "recognizer.save('./trainer/trainer.yml') \n",
    "\n",
    "# Print the numer of faces trained and end program\n",
    "print(\"\\n [INFO] {0} faces trained. Exiting Program\".format(len(np.unique(ids))))\n"
   ]
  },
  {
   "cell_type": "code",
   "execution_count": null,
   "metadata": {},
   "outputs": [],
   "source": []
  }
 ],
 "metadata": {
  "kernelspec": {
   "display_name": "pfas",
   "language": "python",
   "name": "python3"
  },
  "language_info": {
   "codemirror_mode": {
    "name": "ipython",
    "version": 3
   },
   "file_extension": ".py",
   "mimetype": "text/x-python",
   "name": "python",
   "nbconvert_exporter": "python",
   "pygments_lexer": "ipython3",
   "version": "3.10.9"
  },
  "orig_nbformat": 4
 },
 "nbformat": 4,
 "nbformat_minor": 2
}
