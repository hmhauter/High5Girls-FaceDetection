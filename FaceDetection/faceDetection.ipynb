{
 "cells": [
  {
   "cell_type": "markdown",
   "metadata": {},
   "source": [
    "# Face Detection\n",
    "Face Detection is the process of detectin faces in an image.\n",
    "To do so we are using a Neural Network (Cascade Classifier).\n",
    "To test the Classifier images from the laptop camera are taken and processed."
   ]
  },
  {
   "cell_type": "code",
   "execution_count": 2,
   "metadata": {},
   "outputs": [],
   "source": [
    "# import python library for computer vision\n",
    "import cv2"
   ]
  },
  {
   "cell_type": "code",
   "execution_count": 3,
   "metadata": {},
   "outputs": [],
   "source": [
    "# this is our Neural Network (the Classifier)\n",
    "faceCascade = cv2.CascadeClassifier('../haarcascade_frontalface_default.xml')"
   ]
  },
  {
   "cell_type": "markdown",
   "metadata": {},
   "source": [
    "Now we will use the laptop camera to get images and let the Neural Network detect the faces. <br>\n",
    "Press **Esc** to exit the application."
   ]
  },
  {
   "cell_type": "code",
   "execution_count": 5,
   "metadata": {},
   "outputs": [],
   "source": [
    "# set the color of the bounding box (blue, green, red)\n",
    "color_box = (0,0,255)\n",
    "\n",
    "# open front camera of laptop\n",
    "cap = cv2.VideoCapture(0)\n",
    "cap.set(3,640) # set Width\n",
    "cap.set(4,480) # set Height\n",
    "\n",
    "# constantly read images from laptop camera\n",
    "while True:\n",
    "    # get image\n",
    "    ret, img = cap.read()\n",
    "\n",
    "    # convert image to gray scale\n",
    "    gray = cv2.cvtColor(img, cv2.COLOR_BGR2GRAY)\n",
    "    # let the Neural network detect the faces\n",
    "    faces = faceCascade.detectMultiScale(\n",
    "        gray,\n",
    "        scaleFactor=1.2,\n",
    "        minNeighbors=5,     \n",
    "        minSize=(20, 20)\n",
    "    )\n",
    "\n",
    "    # draw the coordinates we get back from the detection as bounding boxes\n",
    "    for (x,y,w,h) in faces:\n",
    "        cv2.rectangle(img,(x,y),(x+w,y+h),color_box, 2)\n",
    "        roi_color = img[y:y+h, x:x+w]\n",
    "        \n",
    "    # show result\n",
    "    cv2.imshow('Result',img)\n",
    "\n",
    "    k = cv2.waitKey(30) & 0xff\n",
    "    if k == 27: # press 'ESC' to quit\n",
    "        break\n",
    "    \n",
    "# clean up in the end\n",
    "cap.release()\n",
    "cv2.destroyAllWindows()"
   ]
  },
  {
   "cell_type": "markdown",
   "metadata": {},
   "source": [
    "**Exercise A**: When is the Neural Network good at detecting faces? What happens if you change your position or the light, etc.? <br>\n",
    "**Exercise B**: Bring your frinds. Can the Network detect multiple faces in an image? <br>\n",
    "**Exercise C**: Can you change the color of the box that marks the face if detected?"
   ]
  }
 ],
 "metadata": {
  "kernelspec": {
   "display_name": "pfas",
   "language": "python",
   "name": "python3"
  },
  "language_info": {
   "codemirror_mode": {
    "name": "ipython",
    "version": 3
   },
   "file_extension": ".py",
   "mimetype": "text/x-python",
   "name": "python",
   "nbconvert_exporter": "python",
   "pygments_lexer": "ipython3",
   "version": "3.10.9"
  },
  "orig_nbformat": 4
 },
 "nbformat": 4,
 "nbformat_minor": 2
}
